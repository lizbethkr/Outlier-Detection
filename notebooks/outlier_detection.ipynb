{
 "cells": [
  {
   "cell_type": "markdown",
   "metadata": {},
   "source": [
    "# Outliers Detection\n",
    "\n",
    "The goal of our analysis is to create an algorithm to find outliers in financial data. Outliers will represent members with unusually high costs in the current month.\n"
   ]
  },
  {
   "cell_type": "markdown",
   "metadata": {},
   "source": [
    "## Table of Contents\n",
    "1. [Introduction](#outliers-detection)\n",
    "2. [Import Libraries and Load Data](#import-libraries-and-load-data)\n",
    "3. [Exploratory Data Analysis](#exploratory-data-analysis)\n",
    "4. [Outlier Detection](#outliers-detection)\n",
    "5. [Results](#results)"
   ]
  },
  {
   "cell_type": "markdown",
   "metadata": {},
   "source": [
    "# Import Libraries and Load Data\n",
    "\n",
    "Before getting started, we will load the dataset and have it prepared for analysis. We will import necessary libraries as well as load the dataset as a dataframe."
   ]
  },
  {
   "cell_type": "code",
   "execution_count": 1,
   "metadata": {},
   "outputs": [],
   "source": [
    "import pandas as pd\n",
    "import numpy as np\n",
    "import matplotlib.pyplot as plt\n",
    "import seaborn as sns\n",
    "\n",
    "# Load the dataset into a dataframe\n",
    "customers = pd.read_csv('../data/raw/sfr_test.csv')"
   ]
  },
  {
   "cell_type": "markdown",
   "metadata": {},
   "source": [
    "# Exploratory Data Analysis\n",
    "\n",
    "Now that our data is loaded and ready for analysis, we can explore our dataset, clean our data, and gain insight on our data by visualizing important statistics."
   ]
  },
  {
   "cell_type": "markdown",
   "metadata": {},
   "source": [
    "## Understanding the Data"
   ]
  },
  {
   "cell_type": "code",
   "execution_count": 2,
   "metadata": {},
   "outputs": [
    {
     "name": "stdout",
     "output_type": "stream",
     "text": [
      "<class 'pandas.core.frame.DataFrame'>\n",
      "RangeIndex: 10530 entries, 0 to 10529\n",
      "Data columns (total 28 columns):\n",
      " #   Column               Non-Null Count  Dtype \n",
      "---  ------               --------------  ----- \n",
      " 0   member_unique_id     10530 non-null  int64 \n",
      " 1   gender               10530 non-null  object\n",
      " 2   dob                  10530 non-null  object\n",
      " 3   eligible_year        10530 non-null  int64 \n",
      " 4   eligible_month       10530 non-null  int64 \n",
      " 5   affiliation_type     10530 non-null  object\n",
      " 6   pbp_group            10530 non-null  object\n",
      " 7   plan_name            6606 non-null   object\n",
      " 8   npi                  10530 non-null  int64 \n",
      " 9   line_of_business     10530 non-null  object\n",
      " 10  esrd                 10530 non-null  bool  \n",
      " 11  hospice              10530 non-null  bool  \n",
      " 12  ipa_funding          10530 non-null  object\n",
      " 13  ma_premium           10530 non-null  object\n",
      " 14  ma_risk_score        10530 non-null  object\n",
      " 15  mbr_with_rx_rebates  10530 non-null  object\n",
      " 16  partd_premium        10530 non-null  object\n",
      " 17  pcp_cap              10530 non-null  object\n",
      " 18  pcp_ffs              10530 non-null  object\n",
      " 19  plan_premium         10530 non-null  object\n",
      " 20  prof                 10530 non-null  object\n",
      " 21  reinsurance          10530 non-null  object\n",
      " 22  risk_score_partd     10530 non-null  object\n",
      " 23  rx                   10530 non-null  object\n",
      " 24  rx_rebates           10530 non-null  object\n",
      " 25  rx_with_rebates      10530 non-null  object\n",
      " 26  rx_without_rebates   10530 non-null  object\n",
      " 27  spec_cap             10530 non-null  object\n",
      "dtypes: bool(2), int64(4), object(22)\n",
      "memory usage: 2.1+ MB\n"
     ]
    }
   ],
   "source": [
    "# Display a summary of the DataFrame, including column name, non-null values, and their data types\n",
    "customers.info()"
   ]
  },
  {
   "cell_type": "code",
   "execution_count": 3,
   "metadata": {},
   "outputs": [
    {
     "name": "stdout",
     "output_type": "stream",
     "text": [
      "\n",
      "The number of rows and columns in the DataFrame:  (10530, 28)\n"
     ]
    }
   ],
   "source": [
    "# Return the number of rows and columns in the DataFrame\n",
    "print('\\nThe number of rows and columns in the DataFrame: ', customers.shape)"
   ]
  },
  {
   "cell_type": "code",
   "execution_count": 4,
   "metadata": {},
   "outputs": [
    {
     "name": "stdout",
     "output_type": "stream",
     "text": [
      "\n",
      "List the column labels as an index object: \n",
      " Index(['member_unique_id', 'gender', 'dob', 'eligible_year', 'eligible_month',\n",
      "       'affiliation_type', 'pbp_group', 'plan_name', 'npi', 'line_of_business',\n",
      "       'esrd', 'hospice', 'ipa_funding', 'ma_premium', 'ma_risk_score',\n",
      "       'mbr_with_rx_rebates', 'partd_premium', 'pcp_cap', 'pcp_ffs',\n",
      "       'plan_premium', 'prof', 'reinsurance', 'risk_score_partd', 'rx',\n",
      "       'rx_rebates', 'rx_with_rebates', 'rx_without_rebates', 'spec_cap'],\n",
      "      dtype='object')\n"
     ]
    }
   ],
   "source": [
    "# List the column labels as an index object\n",
    "print('\\nList the column labels as an index object: \\n', customers.columns)"
   ]
  },
  {
   "cell_type": "code",
   "execution_count": 6,
   "metadata": {},
   "outputs": [
    {
     "name": "stdout",
     "output_type": "stream",
     "text": [
      "\n",
      "Statistical summary of the DataFrame: \n",
      "        member_unique_id  eligible_year  eligible_month           npi\n",
      "count      10530.000000        10530.0         10530.0  10530.000000\n",
      "mean        5265.500000         2020.0        202006.0     44.351852\n",
      "std         3039.893501            0.0             0.0     27.025010\n",
      "min            1.000000         2020.0        202006.0      1.000000\n",
      "25%         2633.250000         2020.0        202006.0     21.000000\n",
      "50%         5265.500000         2020.0        202006.0     40.000000\n",
      "75%         7897.750000         2020.0        202006.0     68.000000\n",
      "max        10530.000000         2020.0        202006.0     93.000000\n"
     ]
    }
   ],
   "source": [
    "# Return a statistical summary of the DataFrame\n",
    "print('\\nStatistical summary of the DataFrame: \\n', customers.describe())"
   ]
  },
  {
   "cell_type": "code",
   "execution_count": 16,
   "metadata": {},
   "outputs": [
    {
     "name": "stdout",
     "output_type": "stream",
     "text": [
      "   member_unique_id gender         dob  eligible_year  eligible_month  \\\n",
      "0                 1      F  21/06/1990           2020          202006   \n",
      "1                 2      M  02/01/1948           2020          202006   \n",
      "2                 3      M  14/06/1948           2020          202006   \n",
      "3                 4      M  10/02/1954           2020          202006   \n",
      "4                 5      M  31/12/1953           2020          202006   \n",
      "\n",
      "  affiliation_type pbp_group             plan_name  npi line_of_business  ...  \\\n",
      "0        Affiliate   NON-SNP   MEDICARE - CAREFREE    1              HMO  ...   \n",
      "1        Affiliate   NON-SNP                   NaN    1              HMO  ...   \n",
      "2        Affiliate   NON-SNP   MEDICARE - CAREFREE    1              HMO  ...   \n",
      "3        Affiliate     D-SNP  MEDICARE - CARENEEDS    1              HMO  ...   \n",
      "4        Affiliate   NON-SNP                   NaN    1              HMO  ...   \n",
      "\n",
      "   pcp_ffs  plan_premium       prof reinsurance risk_score_partd          rx  \\\n",
      "0    $0.00     $3,507.00      $0.00       $7.92            $0.00       $0.00   \n",
      "1    $0.00     $6,204.84      $0.00       $8.13            $0.00  $11,289.69   \n",
      "2    $0.00     $4,012.46      $0.00       $7.92            $0.00       $0.00   \n",
      "3    $0.00     $9,770.61      $0.00       $8.30            $0.00      $73.88   \n",
      "4    $0.00    $19,976.13  $8,875.80       $8.90            $0.00     $522.48   \n",
      "\n",
      "  rx_rebates rx_with_rebates rx_without_rebates spec_cap  \n",
      "0      $0.00           $0.00              $0.00  $843.78  \n",
      "1      $0.00      $10,688.46         $10,859.82  $906.77  \n",
      "2      $0.00           $0.00              $0.00  $815.84  \n",
      "3      $0.00          $62.87             $64.91  $846.26  \n",
      "4      $0.00         $517.56            $606.01  $867.55  \n",
      "\n",
      "[5 rows x 28 columns]\n",
      "       member_unique_id gender         dob  eligible_year  eligible_month  \\\n",
      "10525             10526      F  07/04/1954           2020          202006   \n",
      "10526             10527      F  08/12/1945           2020          202006   \n",
      "10527             10528      M  08/06/1950           2020          202006   \n",
      "10528             10529      M  12/10/1949           2020          202006   \n",
      "10529             10530      M  27/08/1988           2020          202006   \n",
      "\n",
      "      affiliation_type pbp_group            plan_name  npi line_of_business  \\\n",
      "10525         SaludVIP   NON-SNP                  NaN   93              HMO   \n",
      "10526         SaludVIP   NON-SNP                  NaN   93              HMO   \n",
      "10527         SaludVIP   NON-SNP  MEDICARE - CAREFREE   93              HMO   \n",
      "10528         SaludVIP   NON-SNP  MEDICARE - CAREFREE   93              HMO   \n",
      "10529         SaludVIP     D-SNP                  NaN   93              HMO   \n",
      "\n",
      "       ...  pcp_ffs  plan_premium     prof reinsurance risk_score_partd  \\\n",
      "10525  ...    $0.00     $5,097.30    $0.00       $8.94            $0.00   \n",
      "10526  ...    $0.00    $11,278.18    $0.00       $8.93            $0.00   \n",
      "10527  ...    $0.00    $21,917.27    $0.00       $9.04            $0.00   \n",
      "10528  ...    $0.00    $11,212.60  $364.93       $8.96            $0.00   \n",
      "10529  ...    $0.00     $6,218.16    $0.00       $8.91            $0.00   \n",
      "\n",
      "            rx rx_rebates rx_with_rebates rx_without_rebates   spec_cap  \n",
      "10525  $317.71      $0.00         $292.58            $279.22    $989.74  \n",
      "10526  $238.86      $0.00         $234.95            $248.51  $1,002.72  \n",
      "10527    $0.00      $0.00           $0.00              $0.00    $840.19  \n",
      "10528  $529.86      $0.00         $638.28            $641.81    $868.84  \n",
      "10529    $0.00      $0.00           $0.00              $0.00    $933.36  \n",
      "\n",
      "[5 rows x 28 columns]\n"
     ]
    }
   ],
   "source": [
    "# Ways to select data\n",
    "\n",
    "# .head(n): Grabs the first n rows in the dataframe\n",
    "print(customers.head())\n",
    "\n",
    "# .tail(n): Grab the bottom n rows in the dataframe\n",
    "print(customers.tail())"
   ]
  },
  {
   "cell_type": "markdown",
   "metadata": {},
   "source": [
    "## Data Cleaning"
   ]
  },
  {
   "cell_type": "markdown",
   "metadata": {},
   "source": [
    "Converting financial columns to type float by removing '$' and ','\n"
   ]
  },
  {
   "cell_type": "code",
   "execution_count": null,
   "metadata": {},
   "outputs": [
    {
     "name": "stdout",
     "output_type": "stream",
     "text": [
      "['ipa_funding', 'ma_premium', 'ma_risk_score', 'mbr_with_rx_rebates', 'partd_premium', 'pcp_cap', 'pcp_ffs', 'plan_premium', 'prof', 'reinsurance', 'risk_score_partd', 'rx', 'rx_rebates', 'rx_with_rebates', 'rx_without_rebates', 'spec_cap']\n"
     ]
    }
   ],
   "source": [
    "# Identify financial columns\n",
    "financial_cols = [col for col in customers.columns if customers[col].dtype == 'object' and customers[col].str.contains(r'\\$').any()]\n",
    "print(financial_cols)"
   ]
  },
  {
   "cell_type": "code",
   "execution_count": 21,
   "metadata": {},
   "outputs": [
    {
     "name": "stdout",
     "output_type": "stream",
     "text": [
      "   ipa_funding  ma_premium  ma_risk_score  mbr_with_rx_rebates  partd_premium  \\\n",
      "0      2721.85     3611.21           2.02               632.13          82.13   \n",
      "1      5060.21     6817.97           5.24              2535.98         205.93   \n",
      "2      3159.82     3443.32           3.17               595.96          59.13   \n",
      "3      9563.23    11015.31           9.92               181.95         265.65   \n",
      "4     17456.26    17590.58          25.55               810.83         210.62   \n",
      "\n",
      "   pcp_cap  pcp_ffs  plan_premium    prof  reinsurance  risk_score_partd  \\\n",
      "0   474.83      0.0       3507.00     0.0         7.92               0.0   \n",
      "1   457.04      0.0       6204.84     0.0         8.13               0.0   \n",
      "2   482.63      0.0       4012.46     0.0         7.92               0.0   \n",
      "3   469.04      0.0       9770.61     0.0         8.30               0.0   \n",
      "4   527.98      0.0      19976.13  8875.8         8.90               0.0   \n",
      "\n",
      "         rx  rx_rebates  rx_with_rebates  rx_without_rebates  spec_cap  \n",
      "0      0.00         0.0             0.00                0.00    843.78  \n",
      "1  11289.69         0.0         10688.46            10859.82    906.77  \n",
      "2      0.00         0.0             0.00                0.00    815.84  \n",
      "3     73.88         0.0            62.87               64.91    846.26  \n",
      "4    522.48         0.0           517.56              606.01    867.55  \n"
     ]
    }
   ],
   "source": [
    "# Remove '$' and ',' from the financial columns and convert them to float\n",
    "for col in financial_cols:\n",
    "    customers[col] = customers[col].replace({r'\\$': '', ',': ''}, regex=True).astype(float)\n",
    "\n",
    "print(customers[financial_cols].head())"
   ]
  },
  {
   "cell_type": "markdown",
   "metadata": {},
   "source": [
    "Convert Date of Birth (dob) to datetime and create a new column called age"
   ]
  },
  {
   "cell_type": "code",
   "execution_count": 28,
   "metadata": {},
   "outputs": [
    {
     "name": "stdout",
     "output_type": "stream",
     "text": [
      "         dob  age\n",
      "0 1990-06-21   34\n",
      "1 1948-01-02   77\n",
      "2 1948-06-14   76\n",
      "3 1954-02-10   71\n",
      "4 1953-12-31   71\n"
     ]
    }
   ],
   "source": [
    "# Convert dob column to datetime \n",
    "customers['dob'] = pd.to_datetime(customers['dob'],dayfirst=True)\n",
    "\n",
    "# Create a new column called 'age'\n",
    "customers['age'] = (pd.to_datetime('now') - customers['dob']).dt.days // 365\n",
    "\n",
    "print(customers[['dob', 'age']].head())"
   ]
  },
  {
   "cell_type": "markdown",
   "metadata": {},
   "source": [
    "Handling missing values"
   ]
  },
  {
   "cell_type": "code",
   "execution_count": 26,
   "metadata": {},
   "outputs": [
    {
     "name": "stdout",
     "output_type": "stream",
     "text": [
      "Index(['plan_name'], dtype='object')\n"
     ]
    },
    {
     "data": {
      "text/html": [
       "<div>\n",
       "<style scoped>\n",
       "    .dataframe tbody tr th:only-of-type {\n",
       "        vertical-align: middle;\n",
       "    }\n",
       "\n",
       "    .dataframe tbody tr th {\n",
       "        vertical-align: top;\n",
       "    }\n",
       "\n",
       "    .dataframe thead th {\n",
       "        text-align: right;\n",
       "    }\n",
       "</style>\n",
       "<table border=\"1\" class=\"dataframe\">\n",
       "  <thead>\n",
       "    <tr style=\"text-align: right;\">\n",
       "      <th></th>\n",
       "      <th>member_unique_id</th>\n",
       "      <th>gender</th>\n",
       "      <th>dob</th>\n",
       "      <th>eligible_year</th>\n",
       "      <th>eligible_month</th>\n",
       "      <th>affiliation_type</th>\n",
       "      <th>pbp_group</th>\n",
       "      <th>plan_name</th>\n",
       "      <th>npi</th>\n",
       "      <th>line_of_business</th>\n",
       "      <th>...</th>\n",
       "      <th>pcp_ffs</th>\n",
       "      <th>plan_premium</th>\n",
       "      <th>prof</th>\n",
       "      <th>reinsurance</th>\n",
       "      <th>risk_score_partd</th>\n",
       "      <th>rx</th>\n",
       "      <th>rx_rebates</th>\n",
       "      <th>rx_with_rebates</th>\n",
       "      <th>rx_without_rebates</th>\n",
       "      <th>spec_cap</th>\n",
       "    </tr>\n",
       "  </thead>\n",
       "  <tbody>\n",
       "    <tr>\n",
       "      <th>1</th>\n",
       "      <td>2</td>\n",
       "      <td>M</td>\n",
       "      <td>02/01/1948</td>\n",
       "      <td>2020</td>\n",
       "      <td>202006</td>\n",
       "      <td>Affiliate</td>\n",
       "      <td>NON-SNP</td>\n",
       "      <td>NaN</td>\n",
       "      <td>1</td>\n",
       "      <td>HMO</td>\n",
       "      <td>...</td>\n",
       "      <td>0.0</td>\n",
       "      <td>6204.84</td>\n",
       "      <td>0.0</td>\n",
       "      <td>8.13</td>\n",
       "      <td>0.0</td>\n",
       "      <td>11289.69</td>\n",
       "      <td>0.0</td>\n",
       "      <td>10688.46</td>\n",
       "      <td>10859.82</td>\n",
       "      <td>906.77</td>\n",
       "    </tr>\n",
       "    <tr>\n",
       "      <th>4</th>\n",
       "      <td>5</td>\n",
       "      <td>M</td>\n",
       "      <td>31/12/1953</td>\n",
       "      <td>2020</td>\n",
       "      <td>202006</td>\n",
       "      <td>Affiliate</td>\n",
       "      <td>NON-SNP</td>\n",
       "      <td>NaN</td>\n",
       "      <td>1</td>\n",
       "      <td>HMO</td>\n",
       "      <td>...</td>\n",
       "      <td>0.0</td>\n",
       "      <td>19976.13</td>\n",
       "      <td>8875.8</td>\n",
       "      <td>8.90</td>\n",
       "      <td>0.0</td>\n",
       "      <td>522.48</td>\n",
       "      <td>0.0</td>\n",
       "      <td>517.56</td>\n",
       "      <td>606.01</td>\n",
       "      <td>867.55</td>\n",
       "    </tr>\n",
       "    <tr>\n",
       "      <th>8</th>\n",
       "      <td>9</td>\n",
       "      <td>F</td>\n",
       "      <td>22/07/1949</td>\n",
       "      <td>2020</td>\n",
       "      <td>202006</td>\n",
       "      <td>Affiliate</td>\n",
       "      <td>NON-SNP</td>\n",
       "      <td>NaN</td>\n",
       "      <td>1</td>\n",
       "      <td>HMO</td>\n",
       "      <td>...</td>\n",
       "      <td>0.0</td>\n",
       "      <td>12942.04</td>\n",
       "      <td>0.0</td>\n",
       "      <td>8.32</td>\n",
       "      <td>0.0</td>\n",
       "      <td>0.00</td>\n",
       "      <td>0.0</td>\n",
       "      <td>0.00</td>\n",
       "      <td>0.00</td>\n",
       "      <td>823.63</td>\n",
       "    </tr>\n",
       "    <tr>\n",
       "      <th>10</th>\n",
       "      <td>11</td>\n",
       "      <td>F</td>\n",
       "      <td>01/01/1951</td>\n",
       "      <td>2020</td>\n",
       "      <td>202006</td>\n",
       "      <td>Affiliate</td>\n",
       "      <td>NON-SNP</td>\n",
       "      <td>NaN</td>\n",
       "      <td>1</td>\n",
       "      <td>HMO</td>\n",
       "      <td>...</td>\n",
       "      <td>0.0</td>\n",
       "      <td>6788.10</td>\n",
       "      <td>0.0</td>\n",
       "      <td>8.44</td>\n",
       "      <td>0.0</td>\n",
       "      <td>0.00</td>\n",
       "      <td>0.0</td>\n",
       "      <td>0.00</td>\n",
       "      <td>0.00</td>\n",
       "      <td>836.41</td>\n",
       "    </tr>\n",
       "    <tr>\n",
       "      <th>16</th>\n",
       "      <td>17</td>\n",
       "      <td>M</td>\n",
       "      <td>20/05/1953</td>\n",
       "      <td>2020</td>\n",
       "      <td>202006</td>\n",
       "      <td>Affiliate</td>\n",
       "      <td>NON-SNP</td>\n",
       "      <td>NaN</td>\n",
       "      <td>1</td>\n",
       "      <td>HMO</td>\n",
       "      <td>...</td>\n",
       "      <td>0.0</td>\n",
       "      <td>9071.13</td>\n",
       "      <td>0.0</td>\n",
       "      <td>9.19</td>\n",
       "      <td>0.0</td>\n",
       "      <td>145.61</td>\n",
       "      <td>0.0</td>\n",
       "      <td>146.34</td>\n",
       "      <td>140.15</td>\n",
       "      <td>786.09</td>\n",
       "    </tr>\n",
       "    <tr>\n",
       "      <th>...</th>\n",
       "      <td>...</td>\n",
       "      <td>...</td>\n",
       "      <td>...</td>\n",
       "      <td>...</td>\n",
       "      <td>...</td>\n",
       "      <td>...</td>\n",
       "      <td>...</td>\n",
       "      <td>...</td>\n",
       "      <td>...</td>\n",
       "      <td>...</td>\n",
       "      <td>...</td>\n",
       "      <td>...</td>\n",
       "      <td>...</td>\n",
       "      <td>...</td>\n",
       "      <td>...</td>\n",
       "      <td>...</td>\n",
       "      <td>...</td>\n",
       "      <td>...</td>\n",
       "      <td>...</td>\n",
       "      <td>...</td>\n",
       "      <td>...</td>\n",
       "    </tr>\n",
       "    <tr>\n",
       "      <th>10521</th>\n",
       "      <td>10522</td>\n",
       "      <td>M</td>\n",
       "      <td>19/04/1962</td>\n",
       "      <td>2020</td>\n",
       "      <td>202006</td>\n",
       "      <td>SaludVIP</td>\n",
       "      <td>NON-SNP</td>\n",
       "      <td>NaN</td>\n",
       "      <td>93</td>\n",
       "      <td>HMO</td>\n",
       "      <td>...</td>\n",
       "      <td>0.0</td>\n",
       "      <td>11868.16</td>\n",
       "      <td>0.0</td>\n",
       "      <td>8.18</td>\n",
       "      <td>0.0</td>\n",
       "      <td>679.59</td>\n",
       "      <td>0.0</td>\n",
       "      <td>707.11</td>\n",
       "      <td>672.21</td>\n",
       "      <td>875.47</td>\n",
       "    </tr>\n",
       "    <tr>\n",
       "      <th>10524</th>\n",
       "      <td>10525</td>\n",
       "      <td>F</td>\n",
       "      <td>04/09/1955</td>\n",
       "      <td>2020</td>\n",
       "      <td>202006</td>\n",
       "      <td>SaludVIP</td>\n",
       "      <td>NON-SNP</td>\n",
       "      <td>NaN</td>\n",
       "      <td>93</td>\n",
       "      <td>HMO</td>\n",
       "      <td>...</td>\n",
       "      <td>0.0</td>\n",
       "      <td>28682.90</td>\n",
       "      <td>0.0</td>\n",
       "      <td>9.36</td>\n",
       "      <td>0.0</td>\n",
       "      <td>387.05</td>\n",
       "      <td>0.0</td>\n",
       "      <td>335.54</td>\n",
       "      <td>362.33</td>\n",
       "      <td>923.96</td>\n",
       "    </tr>\n",
       "    <tr>\n",
       "      <th>10525</th>\n",
       "      <td>10526</td>\n",
       "      <td>F</td>\n",
       "      <td>07/04/1954</td>\n",
       "      <td>2020</td>\n",
       "      <td>202006</td>\n",
       "      <td>SaludVIP</td>\n",
       "      <td>NON-SNP</td>\n",
       "      <td>NaN</td>\n",
       "      <td>93</td>\n",
       "      <td>HMO</td>\n",
       "      <td>...</td>\n",
       "      <td>0.0</td>\n",
       "      <td>5097.30</td>\n",
       "      <td>0.0</td>\n",
       "      <td>8.94</td>\n",
       "      <td>0.0</td>\n",
       "      <td>317.71</td>\n",
       "      <td>0.0</td>\n",
       "      <td>292.58</td>\n",
       "      <td>279.22</td>\n",
       "      <td>989.74</td>\n",
       "    </tr>\n",
       "    <tr>\n",
       "      <th>10526</th>\n",
       "      <td>10527</td>\n",
       "      <td>F</td>\n",
       "      <td>08/12/1945</td>\n",
       "      <td>2020</td>\n",
       "      <td>202006</td>\n",
       "      <td>SaludVIP</td>\n",
       "      <td>NON-SNP</td>\n",
       "      <td>NaN</td>\n",
       "      <td>93</td>\n",
       "      <td>HMO</td>\n",
       "      <td>...</td>\n",
       "      <td>0.0</td>\n",
       "      <td>11278.18</td>\n",
       "      <td>0.0</td>\n",
       "      <td>8.93</td>\n",
       "      <td>0.0</td>\n",
       "      <td>238.86</td>\n",
       "      <td>0.0</td>\n",
       "      <td>234.95</td>\n",
       "      <td>248.51</td>\n",
       "      <td>1002.72</td>\n",
       "    </tr>\n",
       "    <tr>\n",
       "      <th>10529</th>\n",
       "      <td>10530</td>\n",
       "      <td>M</td>\n",
       "      <td>27/08/1988</td>\n",
       "      <td>2020</td>\n",
       "      <td>202006</td>\n",
       "      <td>SaludVIP</td>\n",
       "      <td>D-SNP</td>\n",
       "      <td>NaN</td>\n",
       "      <td>93</td>\n",
       "      <td>HMO</td>\n",
       "      <td>...</td>\n",
       "      <td>0.0</td>\n",
       "      <td>6218.16</td>\n",
       "      <td>0.0</td>\n",
       "      <td>8.91</td>\n",
       "      <td>0.0</td>\n",
       "      <td>0.00</td>\n",
       "      <td>0.0</td>\n",
       "      <td>0.00</td>\n",
       "      <td>0.00</td>\n",
       "      <td>933.36</td>\n",
       "    </tr>\n",
       "  </tbody>\n",
       "</table>\n",
       "<p>3924 rows × 28 columns</p>\n",
       "</div>"
      ],
      "text/plain": [
       "       member_unique_id gender         dob  eligible_year  eligible_month  \\\n",
       "1                     2      M  02/01/1948           2020          202006   \n",
       "4                     5      M  31/12/1953           2020          202006   \n",
       "8                     9      F  22/07/1949           2020          202006   \n",
       "10                   11      F  01/01/1951           2020          202006   \n",
       "16                   17      M  20/05/1953           2020          202006   \n",
       "...                 ...    ...         ...            ...             ...   \n",
       "10521             10522      M  19/04/1962           2020          202006   \n",
       "10524             10525      F  04/09/1955           2020          202006   \n",
       "10525             10526      F  07/04/1954           2020          202006   \n",
       "10526             10527      F  08/12/1945           2020          202006   \n",
       "10529             10530      M  27/08/1988           2020          202006   \n",
       "\n",
       "      affiliation_type pbp_group plan_name  npi line_of_business  ...  \\\n",
       "1            Affiliate   NON-SNP       NaN    1              HMO  ...   \n",
       "4            Affiliate   NON-SNP       NaN    1              HMO  ...   \n",
       "8            Affiliate   NON-SNP       NaN    1              HMO  ...   \n",
       "10           Affiliate   NON-SNP       NaN    1              HMO  ...   \n",
       "16           Affiliate   NON-SNP       NaN    1              HMO  ...   \n",
       "...                ...       ...       ...  ...              ...  ...   \n",
       "10521         SaludVIP   NON-SNP       NaN   93              HMO  ...   \n",
       "10524         SaludVIP   NON-SNP       NaN   93              HMO  ...   \n",
       "10525         SaludVIP   NON-SNP       NaN   93              HMO  ...   \n",
       "10526         SaludVIP   NON-SNP       NaN   93              HMO  ...   \n",
       "10529         SaludVIP     D-SNP       NaN   93              HMO  ...   \n",
       "\n",
       "       pcp_ffs  plan_premium    prof  reinsurance  risk_score_partd        rx  \\\n",
       "1          0.0       6204.84     0.0         8.13               0.0  11289.69   \n",
       "4          0.0      19976.13  8875.8         8.90               0.0    522.48   \n",
       "8          0.0      12942.04     0.0         8.32               0.0      0.00   \n",
       "10         0.0       6788.10     0.0         8.44               0.0      0.00   \n",
       "16         0.0       9071.13     0.0         9.19               0.0    145.61   \n",
       "...        ...           ...     ...          ...               ...       ...   \n",
       "10521      0.0      11868.16     0.0         8.18               0.0    679.59   \n",
       "10524      0.0      28682.90     0.0         9.36               0.0    387.05   \n",
       "10525      0.0       5097.30     0.0         8.94               0.0    317.71   \n",
       "10526      0.0      11278.18     0.0         8.93               0.0    238.86   \n",
       "10529      0.0       6218.16     0.0         8.91               0.0      0.00   \n",
       "\n",
       "       rx_rebates  rx_with_rebates  rx_without_rebates  spec_cap  \n",
       "1             0.0         10688.46            10859.82    906.77  \n",
       "4             0.0           517.56              606.01    867.55  \n",
       "8             0.0             0.00                0.00    823.63  \n",
       "10            0.0             0.00                0.00    836.41  \n",
       "16            0.0           146.34              140.15    786.09  \n",
       "...           ...              ...                 ...       ...  \n",
       "10521         0.0           707.11              672.21    875.47  \n",
       "10524         0.0           335.54              362.33    923.96  \n",
       "10525         0.0           292.58              279.22    989.74  \n",
       "10526         0.0           234.95              248.51   1002.72  \n",
       "10529         0.0             0.00                0.00    933.36  \n",
       "\n",
       "[3924 rows x 28 columns]"
      ]
     },
     "execution_count": 26,
     "metadata": {},
     "output_type": "execute_result"
    }
   ],
   "source": [
    "# Returns True if any value in the series is null\n",
    "print(customers.columns[customers.isna().any()])\n",
    "\n",
    "# Find rows where their \"plan_name\" is null\n",
    "customers[customers[\"plan_name\"].isna()]"
   ]
  },
  {
   "cell_type": "markdown",
   "metadata": {},
   "source": [
    "Would plan_name be useful for outlier detection? We can fill the missing values with 'Unknown' since the null rows within it are a big portion of our data."
   ]
  },
  {
   "cell_type": "code",
   "execution_count": 48,
   "metadata": {},
   "outputs": [
    {
     "name": "stdout",
     "output_type": "stream",
     "text": [
      "Missing values in plan_name: 0\n"
     ]
    }
   ],
   "source": [
    "# \"If you find a null value, drop the rows that contains the null value\"\n",
    "#non_null_plan_data = customers.dropna(axis = 0) \n",
    "#non_null_plan_data.head()\n",
    "\n",
    "# Replace missing values in the \"plan_name\" column with \"Unknown\"\n",
    "customers.fillna({'plan_name': 'Unknown'}, inplace = True)\n",
    "print(f'Missing values in plan_name: {customers[\"plan_name\"].isna().sum()}')"
   ]
  },
  {
   "cell_type": "markdown",
   "metadata": {},
   "source": [
    "Convert categorical variables to category type"
   ]
  },
  {
   "cell_type": "code",
   "execution_count": 49,
   "metadata": {},
   "outputs": [
    {
     "name": "stdout",
     "output_type": "stream",
     "text": [
      "gender              category\n",
      "affiliation_type    category\n",
      "pbp_group           category\n",
      "plan_name           category\n",
      "line_of_business    category\n",
      "dtype: object\n"
     ]
    }
   ],
   "source": [
    "# Convert categorical columns to category data type\n",
    "categorical_cols = ['gender', 'affiliation_type', 'pbp_group', 'plan_name', 'line_of_business']\n",
    "for col in categorical_cols:\n",
    "    customers[col] = customers[col].astype('category')\n",
    "\n",
    "# Display the data types of the columns\n",
    "print(customers[categorical_cols].dtypes)"
   ]
  },
  {
   "cell_type": "markdown",
   "metadata": {},
   "source": [
    "# Outlier Detection\n"
   ]
  },
  {
   "cell_type": "code",
   "execution_count": null,
   "metadata": {},
   "outputs": [],
   "source": []
  },
  {
   "cell_type": "markdown",
   "metadata": {},
   "source": [
    "# Results\n",
    "\n"
   ]
  },
  {
   "cell_type": "code",
   "execution_count": null,
   "metadata": {},
   "outputs": [],
   "source": []
  }
 ],
 "metadata": {
  "kernelspec": {
   "display_name": "venv",
   "language": "python",
   "name": "python3"
  },
  "language_info": {
   "codemirror_mode": {
    "name": "ipython",
    "version": 3
   },
   "file_extension": ".py",
   "mimetype": "text/x-python",
   "name": "python",
   "nbconvert_exporter": "python",
   "pygments_lexer": "ipython3",
   "version": "3.12.8"
  }
 },
 "nbformat": 4,
 "nbformat_minor": 4
}
